{
 "cells": [
  {
   "cell_type": "code",
   "execution_count": 20,
   "metadata": {},
   "outputs": [
    {
     "ename": "IndentationError",
     "evalue": "unexpected indent (<ipython-input-20-6bd67d02050d>, line 34)",
     "output_type": "error",
     "traceback": [
      "\u001b[1;36m  File \u001b[1;32m\"<ipython-input-20-6bd67d02050d>\"\u001b[1;36m, line \u001b[1;32m34\u001b[0m\n\u001b[1;33m    t = int(input())\u001b[0m\n\u001b[1;37m    ^\u001b[0m\n\u001b[1;31mIndentationError\u001b[0m\u001b[1;31m:\u001b[0m unexpected indent\n"
     ]
    }
   ],
   "source": [
    "#Assessment\n",
    "\n",
    "import os\n",
    "def prime(num): \n",
    "    if num > 5:\n",
    "        for i in range(2, num//2): \n",
    "            if (num % i) == 0: \n",
    "                return 0\n",
    "                break\n",
    "    if num==1 or num==4:\n",
    "        return 0\n",
    "    elif num==2 or num==3 or num==5:\n",
    "        return 1\n",
    "    else:\n",
    "        return 1\n",
    "def lucky(i):\n",
    "    sume=0\n",
    "    sqr=0\n",
    "    while(i>0):\n",
    "        x=i%10\n",
    "        i=i//10\n",
    "        sume=x+sume\n",
    "        sqr=(x*x)+sqr\n",
    "    return sume,sqr\n",
    "def luckyNumbers(a, b):\n",
    "    count=0\n",
    "    for i in range(a,b+1):\n",
    "        m,n=lucky(i)\n",
    "        out1,out2=prime(m),prime(n)\n",
    "        if out1==1 and out2==1:\n",
    "            count+=1\n",
    "    return count\n",
    "if __name__ == '__main__':\n",
    "    \n",
    "      fptr = open(os.environ['OUTPUT_PATH'], 'w')\n",
    "        t = int(input())\n",
    "                                    for t_itr in range(t):\n",
    "                                            ab = input().split()\n",
    "                                            a = int(ab[0])\n",
    "                                            b = int(ab[1])\n",
    "                                            result = luckyNumbers(a, b)\n",
    "                                            fptr.write(str(result) + '\\n')\n",
    "                                                                fptr.close()"
   ]
  },
  {
   "cell_type": "markdown",
   "metadata": {},
   "source": [
    "## The problem can be considered as two separate ones.\n",
    "\n",
    "One is to calculate number of possible binary strings formed by flipping at most k bits. This is regular combinatorics: \"n choose x\" technique. Where you would sum up all values of x from 0 to k. The caveat is to do it modulo some number. Since modulo here (1000000007) is a prime number look up something like \"n choose k modulo prime\".\n",
    "\n",
    "Second problem is more interesting in my view. Find the number of binary strings that are periodic and differ from a given one in no more than k bits.\n",
    "\n",
    "Let's consider a periodic string. It has a period of some length a which is repeated r = n/a times. Observe that for any d such that d | r we can view the same string as periodic with period a * r/d which is repeated d times. This means we only need to count periodic strings where number of repeats is a prime p and period is n/p.\n",
    "\n",
    "Now for each bit in the period count number of ones and zeroes across all repeats. You know that you need to flip all zeroes to ones or vice versa to get a periodic string. So you can use dynamic programming where you keep track of how many flips you used so far.\n",
    "\n",
    "Finally, the last step is to deal with overlaps: some periodic string with p1 repeats might also be a periodic string with p2 repeats. The key insight is to see that in that case it is also a periodic string with p1*p2 repeats (since p1 and p2 are coprimes). So now you can calculate numbers of periodic strings for number of repeats equals to all possible products of subsets of prime factors of n and use inclusion-exclusion principle to find the total number of periodic strings (all of this of course is done modulo 1000000007).\n",
    "\n",
    "The overall answer then is first number minus second number (modulo 1000000007)."
   ]
  },
  {
   "cell_type": "code",
   "execution_count": null,
   "metadata": {},
   "outputs": [],
   "source": [
    "\n"
   ]
  }
 ],
 "metadata": {
  "kernelspec": {
   "display_name": "Python 3",
   "language": "python",
   "name": "python3"
  },
  "language_info": {
   "codemirror_mode": {
    "name": "ipython",
    "version": 3
   },
   "file_extension": ".py",
   "mimetype": "text/x-python",
   "name": "python",
   "nbconvert_exporter": "python",
   "pygments_lexer": "ipython3",
   "version": "3.7.4"
  }
 },
 "nbformat": 4,
 "nbformat_minor": 2
}
