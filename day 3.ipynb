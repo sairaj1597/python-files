{
 "cells": [
  {
   "cell_type": "code",
   "execution_count": 1,
   "metadata": {},
   "outputs": [
    {
     "name": "stdout",
     "output_type": "stream",
     "text": [
      " Please Enter the Minimum Value : 1\n",
      " Please Enter the Maximum Value : 10\n",
      "Palindrome Numbers between\n",
      "1   2   3   4   5   6   7   8   9   "
     ]
    }
   ],
   "source": [
    "minimum = int(input(\" Please Enter the Minimum Value : \"))\n",
    "maximum = int(input(\" Please Enter the Maximum Value : \"))\n",
    "print(\"Palindrome Numbers between\")\n",
    "for num in range(minimum, maximum + 1):\n",
    "    temp=num\n",
    "    reverse = 0    \n",
    "    while(temp > 0):\n",
    "        i = temp % 10\n",
    "        reverse = (reverse * 10) + i\n",
    "        temp = temp //10\n",
    "    if(num == reverse):\n",
    "        print(\"%d \" %num, end = '  ')"
   ]
  },
  {
   "cell_type": "code",
   "execution_count": 2,
   "metadata": {},
   "outputs": [
    {
     "ename": "IndentationError",
     "evalue": "expected an indented block (<ipython-input-2-948b2a37df5b>, line 5)",
     "output_type": "error",
     "traceback": [
      "\u001b[1;36m  File \u001b[1;32m\"<ipython-input-2-948b2a37df5b>\"\u001b[1;36m, line \u001b[1;32m5\u001b[0m\n\u001b[1;33m    for n in range(2, i):\u001b[0m\n\u001b[1;37m      ^\u001b[0m\n\u001b[1;31mIndentationError\u001b[0m\u001b[1;31m:\u001b[0m expected an indented block\n"
     ]
    }
   ],
   "source": [
    "start = 11\n",
    "end = 25\n",
    "for val in range(start, end + 1): \n",
    "        if i > 1: \n",
    "        for n in range(2, i): \n",
    "        if (val % n) == 0: \n",
    "                break\n",
    "                    else: \n",
    "print(i) "
   ]
  },
  {
   "cell_type": "code",
   "execution_count": null,
   "metadata": {},
   "outputs": [],
   "source": []
  },
  {
   "cell_type": "code",
   "execution_count": null,
   "metadata": {},
   "outputs": [],
   "source": []
  }
 ],
 "metadata": {
  "kernelspec": {
   "display_name": "Python 3",
   "language": "python",
   "name": "python3"
  },
  "language_info": {
   "codemirror_mode": {
    "name": "ipython",
    "version": 3
   },
   "file_extension": ".py",
   "mimetype": "text/x-python",
   "name": "python",
   "nbconvert_exporter": "python",
   "pygments_lexer": "ipython3",
   "version": "3.7.4"
  }
 },
 "nbformat": 4,
 "nbformat_minor": 2
}
