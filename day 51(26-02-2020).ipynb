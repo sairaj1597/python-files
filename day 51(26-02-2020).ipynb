{
 "cells": [
  {
   "cell_type": "markdown",
   "metadata": {},
   "source": [
    "#### concepts\n",
    "- Basics\n",
    "- Datatypes and conversions\n",
    "- control statements\n",
    "   -  conditional statements\n",
    "   -  looping statements\n",
    "- external packages\n",
    "   - math\n",
    "- regular expressions\n"
   ]
  },
  {
   "cell_type": "markdown",
   "metadata": {},
   "source": [
    "## oops\n",
    "  - class\n",
    "  - object\n",
    "  - methods\n",
    "  - construction\n",
    "  005711531372\n",
    "  "
   ]
  },
  {
   "cell_type": "code",
   "execution_count": 1,
   "metadata": {},
   "outputs": [
    {
     "name": "stdout",
     "output_type": "stream",
     "text": [
      "test() function...\n"
     ]
    }
   ],
   "source": [
    "def test():\n",
    "    print(\"test() function...\")\n",
    "    return\n",
    "test()\n",
    "    "
   ]
  },
  {
   "cell_type": "code",
   "execution_count": 2,
   "metadata": {},
   "outputs": [
    {
     "data": {
      "text/plain": [
       "123"
      ]
     },
     "execution_count": 2,
     "metadata": {},
     "output_type": "execute_result"
    }
   ],
   "source": [
    "def isTestWork(x):\n",
    "    return x\n",
    "a = 123\n",
    "isTestWork(a)"
   ]
  },
  {
   "cell_type": "code",
   "execution_count": 4,
   "metadata": {},
   "outputs": [
    {
     "name": "stdout",
     "output_type": "stream",
     "text": [
      "[1, 2, 3] <class 'list'>\n"
     ]
    }
   ],
   "source": [
    "def test(a):\n",
    "    return(a)\n",
    "a=[1,2,3]\n",
    "print(test(a),type(a))"
   ]
  },
  {
   "cell_type": "code",
   "execution_count": 5,
   "metadata": {},
   "outputs": [],
   "source": [
    "# external packages : import statements re"
   ]
  },
  {
   "cell_type": "markdown",
   "metadata": {},
   "source": [
    "### coding standards\n",
    "- variable name :Use a lowercase single letter, word, or words. \n",
    "    Separate words with underscores to improve readability.\n",
    "    ex- x , var , my_variable\n",
    "- class name : Start each word with a capital letter.\n",
    "    Do not separate words with underscores. This style is called camel case.\n",
    "    ex -Model , MyClass \n",
    "- Function Name :\n",
    "    Use a lowercase word or words. Separate words by underscores to improve readability.\n",
    "    eg: function, my_function\n",
    "-  import : import package name\n",
    "- import : from packagenam import function1,function2....\n",
    "    "
   ]
  },
  {
   "cell_type": "markdown",
   "metadata": {},
   "source": [
    "  #Class Names\n",
    "--->Class names should normally use the CapWords convention.\n",
    "\n",
    "--->The naming convention for functions may be used instead in cases where the interface is documented and used primarily\n",
    "as a callable.\n",
    "\n",
    "Note:That there is a separate convention for builtin names: most builtin names are single words (or two words run together), \n",
    "      the CapWords convention used only for exception names and builtin constants."
   ]
  },
  {
   "cell_type": "markdown",
   "metadata": {},
   "source": [
    "## regular expression creating\n",
    " - checkinf for number\n",
    "    -checking for lower and upper case\n",
    "    -checking for special character"
   ]
  },
  {
   "cell_type": "code",
   "execution_count": null,
   "metadata": {},
   "outputs": [],
   "source": [
    "def username_validate(uname):\n",
    "    pattern = '^[A-Z][A-Z 0-9]{7}$'\n",
    "    if re.match(pattern,uname):\n",
    "        return True\n",
    "    return False\n",
    "i=input()\n",
    "match_username(i)"
   ]
  },
  {
   "cell_type": "code",
   "execution_count": 1,
   "metadata": {},
   "outputs": [
    {
     "name": "stdout",
     "output_type": "stream",
     "text": [
      "9704771823\n"
     ]
    },
    {
     "data": {
      "text/plain": [
       "True"
      ]
     },
     "execution_count": 1,
     "metadata": {},
     "output_type": "execute_result"
    }
   ],
   "source": [
    "import re\n",
    "def mobile_number(n):\n",
    "    pattern='^[6-9][0-9]{9}||[6-9][0-9]{9}$'\n",
    "    if re.match(pattern,n):\n",
    "        return True\n",
    "    return False\n",
    "a=input()\n",
    "mobile_number(a)"
   ]
  },
  {
   "cell_type": "code",
   "execution_count": null,
   "metadata": {},
   "outputs": [],
   "source": []
  }
 ],
 "metadata": {
  "kernelspec": {
   "display_name": "Python 3",
   "language": "python",
   "name": "python3"
  },
  "language_info": {
   "codemirror_mode": {
    "name": "ipython",
    "version": 3
   },
   "file_extension": ".py",
   "mimetype": "text/x-python",
   "name": "python",
   "nbconvert_exporter": "python",
   "pygments_lexer": "ipython3",
   "version": "3.7.4"
  }
 },
 "nbformat": 4,
 "nbformat_minor": 2
}
