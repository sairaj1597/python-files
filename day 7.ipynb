{
 "cells": [
  {
   "cell_type": "markdown",
   "metadata": {},
   "source": [
    "# operators"
   ]
  },
  {
   "cell_type": "code",
   "execution_count": 1,
   "metadata": {},
   "outputs": [
    {
     "name": "stdout",
     "output_type": "stream",
     "text": [
      "30\n",
      "-10\n",
      "200\n",
      "0.5\n",
      "0\n",
      "10\n",
      "100000000000000000000\n"
     ]
    }
   ],
   "source": [
    "a = 10\n",
    "b = 20\n",
    "print (a + b)\n",
    "print (a -b)\n",
    "print(a * b)\n",
    "print(a / b)\n",
    "print(a // b)\n",
    "print(a % b)\n",
    "print(a ** b)"
   ]
  },
  {
   "cell_type": "code",
   "execution_count": 2,
   "metadata": {},
   "outputs": [],
   "source": [
    "#logical operators : and,or,not"
   ]
  },
  {
   "cell_type": "code",
   "execution_count": 3,
   "metadata": {},
   "outputs": [
    {
     "name": "stdout",
     "output_type": "stream",
     "text": [
      "False\n"
     ]
    }
   ],
   "source": [
    "print(a>15 and b>0) #T-T,T OR F"
   ]
  },
  {
   "cell_type": "code",
   "execution_count": 4,
   "metadata": {},
   "outputs": [
    {
     "name": "stdout",
     "output_type": "stream",
     "text": [
      "True\n"
     ]
    }
   ],
   "source": [
    "print(a>0 or b>0)  #F-F,T OR T"
   ]
  },
  {
   "cell_type": "code",
   "execution_count": 5,
   "metadata": {},
   "outputs": [
    {
     "name": "stdout",
     "output_type": "stream",
     "text": [
      "False\n"
     ]
    }
   ],
   "source": [
    "print(not(a>0))"
   ]
  },
  {
   "cell_type": "code",
   "execution_count": 7,
   "metadata": {},
   "outputs": [],
   "source": [
    "#3.relational operators: comparisions\n",
    "# <,>,<=,>=,==,!="
   ]
  },
  {
   "cell_type": "code",
   "execution_count": 8,
   "metadata": {},
   "outputs": [
    {
     "name": "stdout",
     "output_type": "stream",
     "text": [
      "True\n",
      "False\n",
      "True\n",
      "False\n",
      "False\n",
      "True\n"
     ]
    }
   ],
   "source": [
    "print(a<b)\n",
    "print(a>b)\n",
    "print(a<=b)\n",
    "print(a>=b)\n",
    "print(a==b)\n",
    "print(a!=b)\n"
   ]
  },
  {
   "cell_type": "code",
   "execution_count": 9,
   "metadata": {},
   "outputs": [],
   "source": [
    "#4. assignment operators\n",
    "# =,+=,-=,+=,%=,/=,//=,**="
   ]
  },
  {
   "cell_type": "code",
   "execution_count": 10,
   "metadata": {},
   "outputs": [
    {
     "name": "stdout",
     "output_type": "stream",
     "text": [
      "36\n"
     ]
    }
   ],
   "source": [
    "i =10\n",
    "i += 1 #i = i + 1\n",
    "i -= 2\n",
    "i *= 4\n",
    "print(i)"
   ]
  },
  {
   "cell_type": "code",
   "execution_count": 11,
   "metadata": {},
   "outputs": [],
   "source": [
    "# bitwise operations -,&,|,<<,>>\n"
   ]
  },
  {
   "cell_type": "code",
   "execution_count": 12,
   "metadata": {},
   "outputs": [
    {
     "name": "stdout",
     "output_type": "stream",
     "text": [
      "0\n",
      "30\n",
      "30\n",
      "-11\n",
      "40\n",
      "2\n"
     ]
    }
   ],
   "source": [
    "#a = 10  --->0000 1010 \n",
    "#b = 20  --->0001 0100\n",
    "print(a & b) # 0000 0000\n",
    "print(a | b) # 0001 1110\n",
    "print(a ^ b) # 0001 1110\n",
    "print(~a)\n",
    "print(a << 2) # 0010 1000\n",
    "print(a >> 2) # 0000 0010"
   ]
  },
  {
   "cell_type": "code",
   "execution_count": 13,
   "metadata": {},
   "outputs": [],
   "source": [
    "# membership operators : in,not in"
   ]
  },
  {
   "cell_type": "code",
   "execution_count": 14,
   "metadata": {},
   "outputs": [
    {
     "data": {
      "text/plain": [
       "True"
      ]
     },
     "execution_count": 14,
     "metadata": {},
     "output_type": "execute_result"
    }
   ],
   "source": [
    "list1 = [12,23,45,32]\n",
    "12 in list1"
   ]
  },
  {
   "cell_type": "code",
   "execution_count": 15,
   "metadata": {},
   "outputs": [
    {
     "data": {
      "text/plain": [
       "True"
      ]
     },
     "execution_count": 15,
     "metadata": {},
     "output_type": "execute_result"
    }
   ],
   "source": [
    "list1 = [22,45,33]\n",
    "21 not in list1"
   ]
  },
  {
   "cell_type": "code",
   "execution_count": 16,
   "metadata": {},
   "outputs": [],
   "source": [
    "# identity operators : is, is not"
   ]
  },
  {
   "cell_type": "code",
   "execution_count": 17,
   "metadata": {},
   "outputs": [
    {
     "data": {
      "text/plain": [
       "True"
      ]
     },
     "execution_count": 17,
     "metadata": {},
     "output_type": "execute_result"
    }
   ],
   "source": [
    "x = 10\n",
    "y = 20\n",
    "z = 10\n",
    "x is z"
   ]
  },
  {
   "cell_type": "code",
   "execution_count": 18,
   "metadata": {},
   "outputs": [
    {
     "data": {
      "text/plain": [
       "140720088916656"
      ]
     },
     "execution_count": 18,
     "metadata": {},
     "output_type": "execute_result"
    }
   ],
   "source": [
    "id(x)"
   ]
  },
  {
   "cell_type": "code",
   "execution_count": 19,
   "metadata": {},
   "outputs": [
    {
     "data": {
      "text/plain": [
       "140720088916976"
      ]
     },
     "execution_count": 19,
     "metadata": {},
     "output_type": "execute_result"
    }
   ],
   "source": [
    "id(y)"
   ]
  },
  {
   "cell_type": "code",
   "execution_count": 20,
   "metadata": {},
   "outputs": [
    {
     "data": {
      "text/plain": [
       "140720088916656"
      ]
     },
     "execution_count": 20,
     "metadata": {},
     "output_type": "execute_result"
    }
   ],
   "source": [
    "id(z)"
   ]
  },
  {
   "cell_type": "markdown",
   "metadata": {},
   "source": [
    "# ternary operator"
   ]
  },
  {
   "cell_type": "code",
   "execution_count": 21,
   "metadata": {},
   "outputs": [],
   "source": [
    "# [on true] if [condition] else [on false]"
   ]
  },
  {
   "cell_type": "code",
   "execution_count": 22,
   "metadata": {},
   "outputs": [
    {
     "data": {
      "text/plain": [
       "10"
      ]
     },
     "execution_count": 22,
     "metadata": {},
     "output_type": "execute_result"
    }
   ],
   "source": [
    "res = x if x<y else y\n",
    "res"
   ]
  },
  {
   "cell_type": "code",
   "execution_count": 23,
   "metadata": {},
   "outputs": [],
   "source": [
    "# read a number as a input and print square of a number if it is not an even number then multiply with 3 value"
   ]
  },
  {
   "cell_type": "code",
   "execution_count": 24,
   "metadata": {},
   "outputs": [
    {
     "name": "stdout",
     "output_type": "stream",
     "text": [
      "enter a number5\n"
     ]
    },
    {
     "data": {
      "text/plain": [
       "15"
      ]
     },
     "execution_count": 24,
     "metadata": {},
     "output_type": "execute_result"
    }
   ],
   "source": [
    "a = int(input(\"enter a number\"))\n",
    "b=a*a if a%2==0 else a*3\n",
    "b"
   ]
  },
  {
   "cell_type": "markdown",
   "metadata": {},
   "source": [
    "# Functions"
   ]
  },
  {
   "cell_type": "markdown",
   "metadata": {},
   "source": [
    "# 1.buit in functions\n",
    "# 2.user defined functions\n",
    "# syntax:\n",
    "# def function_name(arg list):\n",
    "#   ...........\n",
    "#   ...........\n",
    "#   return value"
   ]
  },
  {
   "cell_type": "code",
   "execution_count": 26,
   "metadata": {},
   "outputs": [
    {
     "name": "stdout",
     "output_type": "stream",
     "text": [
      "30\n"
     ]
    }
   ],
   "source": [
    "def add(x,y):\n",
    "    a = x+y\n",
    "    return a\n",
    "print(add(10,20))"
   ]
  },
  {
   "cell_type": "code",
   "execution_count": 27,
   "metadata": {},
   "outputs": [
    {
     "name": "stdout",
     "output_type": "stream",
     "text": [
      "Enter a Number :45\n",
      "Sum of Even Digits is : 4\n"
     ]
    }
   ],
   "source": [
    "n = int(input(\"Enter a Number :\"))\n",
    "s = 0\n",
    "while n > 0:\n",
    "    r = n % 10\n",
    "    if r % 2 == 0:\n",
    "        s = s + r\n",
    "    n = int(n / 10)\n",
    "print(\"Sum of Even Digits is :\", s)"
   ]
  },
  {
   "cell_type": "code",
   "execution_count": 3,
   "metadata": {},
   "outputs": [
    {
     "name": "stdout",
     "output_type": "stream",
     "text": [
      "enter a number188245\n",
      "22\n"
     ]
    }
   ],
   "source": [
    "def Sum(n): \n",
    "    sum=0\n",
    "    while (n > 0): \n",
    "        rem = (n % 10)\n",
    "        if rem%2==0:\n",
    "            sum=sum+rem\n",
    "        \n",
    "        n = int(n/10) \n",
    "    return sum  \n",
    "n = int(input(\"enter a number\"))\n",
    "print(Sum(n)) "
   ]
  },
  {
   "cell_type": "code",
   "execution_count": 12,
   "metadata": {},
   "outputs": [
    {
     "name": "stdout",
     "output_type": "stream",
     "text": [
      "enter a number1234\n",
      "4\n"
     ]
    }
   ],
   "source": [
    "def large(z):\n",
    "    b=max(z)\n",
    "    return b\n",
    "z=input(\"enter a number\")\n",
    "print(large(z))"
   ]
  },
  {
   "cell_type": "code",
   "execution_count": 1,
   "metadata": {},
   "outputs": [
    {
     "name": "stdout",
     "output_type": "stream",
     "text": [
      "enter a number1234\n",
      "4321\n"
     ]
    }
   ],
   "source": [
    "def reverse(x):\n",
    "    d=0\n",
    "    while(x > 0):\n",
    "        rem = (x % 10)\n",
    "        d=d*10+rem\n",
    "        x =int(x/10)\n",
    "    return d\n",
    "x=int(input(\"enter a number\"))\n",
    "print(reverse(x))"
   ]
  },
  {
   "cell_type": "markdown",
   "metadata": {},
   "source": []
  },
  {
   "cell_type": "code",
   "execution_count": 6,
   "metadata": {},
   "outputs": [
    {
     "name": "stdout",
     "output_type": "stream",
     "text": [
      "enter a number20\n",
      "1\n",
      "2\n",
      "3\n",
      "4\n",
      "5\n",
      "6\n",
      "7\n",
      "8\n",
      "9\n",
      "10\n",
      "11\n",
      "12\n",
      "13\n",
      "14\n",
      "15\n",
      "16\n",
      "17\n",
      "18\n",
      "19\n",
      "20\n"
     ]
    }
   ],
   "source": [
    "def number(x):\n",
    "    \n",
    "    i=1\n",
    "    while(x>i):\n",
    "            print(i)\n",
    "            i=i+1\n",
    "    return i\n",
    "x=int(input(\"enter a number\"))\n",
    "print(number(x))"
   ]
  },
  {
   "cell_type": "code",
   "execution_count": 11,
   "metadata": {},
   "outputs": [
    {
     "name": "stdout",
     "output_type": "stream",
     "text": [
      "enter the starting limits10\n",
      "enter the last list15\n",
      "10  11  12  13  14  15\n"
     ]
    }
   ],
   "source": [
    "def limit(a,b):\n",
    "    while(b>a):\n",
    "        print(a,end=\"  \")\n",
    "        a=a+1\n",
    "    return a\n",
    "a=int(input(\"enter the starting limits\"))\n",
    "b=int(input(\"enter the last list\"))\n",
    "print(limit(a,b))\n"
   ]
  },
  {
   "cell_type": "code",
   "execution_count": null,
   "metadata": {},
   "outputs": [],
   "source": []
  }
 ],
 "metadata": {
  "kernelspec": {
   "display_name": "Python 3",
   "language": "python",
   "name": "python3"
  },
  "language_info": {
   "codemirror_mode": {
    "name": "ipython",
    "version": 3
   },
   "file_extension": ".py",
   "mimetype": "text/x-python",
   "name": "python",
   "nbconvert_exporter": "python",
   "pygments_lexer": "ipython3",
   "version": "3.7.4"
  }
 },
 "nbformat": 4,
 "nbformat_minor": 2
}
