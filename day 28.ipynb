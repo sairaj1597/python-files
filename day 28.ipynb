{
 "cells": [
  {
   "cell_type": "code",
   "execution_count": 8,
   "metadata": {},
   "outputs": [
    {
     "name": "stdout",
     "output_type": "stream",
     "text": [
      "True\n"
     ]
    }
   ],
   "source": [
    "from collections import deque\n",
    "import re\n",
    "operators = \"+-/*\"\n",
    "parenthesis = \"()\"\n",
    "priority = {\n",
    "    '+': 0,\n",
    "    '-': 0,\n",
    "    '*': 1,\n",
    "    '/': 1,\n",
    "}\n",
    "def test_higher_priority(operator1, operator2):\n",
    "    return __priority__[operator1] >= __priority__[operator2]\n",
    "print(test_higher_priority('*','-'))\n",
    "#print(test_higher_priority('+','-'))\n",
    "#print(test_higher_priority('+','*'))\n",
    "#print(test_higher_priority('+','/'))\n",
    "#print(test_higher_priority('*','/'))\n"
   ]
  },
  {
   "cell_type": "code",
   "execution_count": null,
   "metadata": {},
   "outputs": [],
   "source": [
    "#Write a Python program to count the number of prime numbers less than a given non-negative number."
   ]
  },
  {
   "cell_type": "code",
   "execution_count": 1,
   "metadata": {},
   "outputs": [
    {
     "name": "stdout",
     "output_type": "stream",
     "text": [
      "4\n",
      "25\n"
     ]
    }
   ],
   "source": [
    "def count_Primes_nums(n):\n",
    "    ctr = 0\n",
    "    \n",
    "    for num in range(n):\n",
    "        if num <= 1:\n",
    "            continue\n",
    "        for i in range(2, num):\n",
    "            if (num % i) == 0:\n",
    "                break\n",
    "        else:\n",
    "            ctr += 1\n",
    "\n",
    "    return ctr\n",
    "\n",
    "print(count_Primes_nums(10))\n",
    "print(count_Primes_nums(100))\n"
   ]
  },
  {
   "cell_type": "markdown",
   "metadata": {},
   "source": []
  },
  {
   "cell_type": "code",
   "execution_count": null,
   "metadata": {},
   "outputs": [],
   "source": []
  }
 ],
 "metadata": {
  "kernelspec": {
   "display_name": "Python 3",
   "language": "python",
   "name": "python3"
  },
  "language_info": {
   "codemirror_mode": {
    "name": "ipython",
    "version": 3
   },
   "file_extension": ".py",
   "mimetype": "text/x-python",
   "name": "python",
   "nbconvert_exporter": "python",
   "pygments_lexer": "ipython3",
   "version": "3.7.4"
  }
 },
 "nbformat": 4,
 "nbformat_minor": 2
}
