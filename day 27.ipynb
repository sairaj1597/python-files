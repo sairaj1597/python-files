{
 "cells": [
  {
   "cell_type": "code",
   "execution_count": 11,
   "metadata": {},
   "outputs": [
    {
     "name": "stdout",
     "output_type": "stream",
     "text": [
      "0\n"
     ]
    }
   ],
   "source": [
    "#length of string.\n",
    "def string_length(str1):\n",
    "    count = 0\n",
    "    for char in str1:\n",
    "        count += 1\n",
    "    return count\n",
    "print(string_length(''))\n"
   ]
  },
  {
   "cell_type": "code",
   "execution_count": 4,
   "metadata": {},
   "outputs": [
    {
     "name": "stdout",
     "output_type": "stream",
     "text": [
      "sairaj\n"
     ]
    }
   ],
   "source": [
    " str1 = 'SAIraj'\n",
    "print(str1[:4].lower() + str1[4:])"
   ]
  },
  {
   "cell_type": "code",
   "execution_count": 5,
   "metadata": {},
   "outputs": [
    {
     "name": "stdout",
     "output_type": "stream",
     "text": [
      "Input a year: 2019\n",
      "Input a month [1-12]: 5\n",
      "Input a day [1-31]: 1\n",
      "The next date is [yyyy-mm-dd] 2019-5-2.\n"
     ]
    }
   ],
   "source": [
    "#write a python program to generate and display the next date of a given date\n",
    "year = int(input(\"Input a year: \"))\n",
    "\n",
    "if (year % 400 == 0):\n",
    "    leap_year = True\n",
    "elif (year % 100 == 0):\n",
    "    leap_year = False\n",
    "elif (year % 4 == 0):\n",
    "    leap_year = True\n",
    "else:\n",
    "    leap_year = False\n",
    "\n",
    "month = int(input(\"Input a month [1-12]: \"))\n",
    "\n",
    "if month in (1, 3, 5, 7, 8, 10, 12):\n",
    "    month_length = 31\n",
    "elif month == 2:\n",
    "    if leap_year:\n",
    "        month_length = 29\n",
    "    else:\n",
    "        month_length = 28\n",
    "else:\n",
    "    month_length = 30\n",
    "\n",
    "\n",
    "day = int(input(\"Input a day [1-31]: \"))\n",
    "\n",
    "if day < month_length:\n",
    "    day += 1\n",
    "else:\n",
    "    day = 1\n",
    "    if month == 12:\n",
    "        month = 1\n",
    "        year += 1\n",
    "    else:\n",
    "        month += 1\n",
    "print(\"The next date is [yyyy-mm-dd] %d-%d-%d.\" % (year, month, day))"
   ]
  },
  {
   "cell_type": "code",
   "execution_count": 6,
   "metadata": {},
   "outputs": [
    {
     "name": "stdout",
     "output_type": "stream",
     "text": [
      "(100, 50)\n"
     ]
    }
   ],
   "source": [
    "#write a python program to solve a classic ancient chinese puzzle\n",
    "def solve(numheads,numlegs):\n",
    "    for i in range(numheads+1):\n",
    "        j=numheads-i\n",
    "        if (2*i)+(4*j)==numlegs:\n",
    "            return i,j\n",
    "    return ns,ns\n",
    "\n",
    "\n",
    "numheads=150\n",
    "numlegs=400\n",
    "sol=solve(numheads,numlegs)\n",
    "print (sol)"
   ]
  },
  {
   "cell_type": "code",
   "execution_count": 19,
   "metadata": {},
   "outputs": [
    {
     "data": {
      "text/plain": [
       "'olleh'"
      ]
     },
     "execution_count": 19,
     "metadata": {},
     "output_type": "execute_result"
    }
   ],
   "source": [
    "i=\"hello\"\n",
    "i[::-1]"
   ]
  },
  {
   "cell_type": "code",
   "execution_count": 5,
   "metadata": {},
   "outputs": [
    {
     "data": {
      "text/plain": [
       "'hel'"
      ]
     },
     "execution_count": 5,
     "metadata": {},
     "output_type": "execute_result"
    }
   ],
   "source": [
    "i=\"hello\"\n",
    "i[:3]"
   ]
  },
  {
   "cell_type": "code",
   "execution_count": null,
   "metadata": {},
   "outputs": [],
   "source": []
  }
 ],
 "metadata": {
  "kernelspec": {
   "display_name": "Python 3",
   "language": "python",
   "name": "python3"
  },
  "language_info": {
   "codemirror_mode": {
    "name": "ipython",
    "version": 3
   },
   "file_extension": ".py",
   "mimetype": "text/x-python",
   "name": "python",
   "nbconvert_exporter": "python",
   "pygments_lexer": "ipython3",
   "version": "3.7.4"
  }
 },
 "nbformat": 4,
 "nbformat_minor": 2
}
