{
 "cells": [
  {
   "cell_type": "code",
   "execution_count": 1,
   "metadata": {},
   "outputs": [
    {
     "name": "stdout",
     "output_type": "stream",
     "text": [
      "file name:  abc.txt\n",
      "file mode:  w\n",
      "is file readable:  False\n",
      "is file writable:  True\n",
      "is file closed:  False\n",
      "is file closed:  True\n"
     ]
    }
   ],
   "source": [
    "f = open(\"abc.txt\",'w')\n",
    "print(\"file name: \",f.name)\n",
    "print(\"file mode: \",f.mode)\n",
    "print(\"is file readable: \",f.readable())\n",
    "print(\"is file writable: \",f.writable())\n",
    "print(\"is file closed: \",f.closed)\n",
    "f.close()\n",
    "print(\"is file closed: \",f.closed)"
   ]
  },
  {
   "cell_type": "code",
   "execution_count": null,
   "metadata": {},
   "outputs": [],
   "source": [
    "we can write character data to the text files by using the two methods\n",
    "write(str)\n",
    "writelines(list of lines)\n",
    "list is written as []"
   ]
  },
  {
   "cell_type": "code",
   "execution_count": 3,
   "metadata": {},
   "outputs": [
    {
     "name": "stdout",
     "output_type": "stream",
     "text": [
      "data written to the file successfully\n"
     ]
    }
   ],
   "source": [
    "#write\n",
    "f = open(\"abcd.txt\",'w')\n",
    "f.write(\"sai\\n\")\n",
    "f.write(\"raj\\n\")\n",
    "f.write(\"srk\\n\")\n",
    "print(\"data written to the file successfully\")\n",
    "f.close()"
   ]
  },
  {
   "cell_type": "code",
   "execution_count": 4,
   "metadata": {},
   "outputs": [],
   "source": [
    "#writelines\n",
    "f=open(\"a.txt\",'w')\n",
    "f.writelines([\"hi\",\"hello\"])\n",
    "f.close()"
   ]
  },
  {
   "cell_type": "code",
   "execution_count": 6,
   "metadata": {},
   "outputs": [
    {
     "name": "stdout",
     "output_type": "stream",
     "text": [
      "hihello\n"
     ]
    }
   ],
   "source": [
    "#to read total data from the file\n",
    "f=open(\"a.txt\",'r')\n",
    "data=f.read()\n",
    "print(data)\n",
    "f.close()"
   ]
  },
  {
   "cell_type": "code",
   "execution_count": 9,
   "metadata": {},
   "outputs": [
    {
     "name": "stdout",
     "output_type": "stream",
     "text": [
      "hihello\n"
     ]
    }
   ],
   "source": [
    "#to read only first 5 characters\n",
    "f=open(\"a.txt\",'r')\n",
    "data=f.read(100)\n",
    "print(data)\n",
    "f.close()"
   ]
  },
  {
   "cell_type": "code",
   "execution_count": 11,
   "metadata": {},
   "outputs": [
    {
     "name": "stdout",
     "output_type": "stream",
     "text": [
      "hello\n",
      "this is python\n",
      "in jupyer\n",
      "see you again\n",
      "bye now"
     ]
    }
   ],
   "source": [
    "#to read all lines\n",
    "f=open(\"a.txt\",'r')\n",
    "lines=f.readlines()\n",
    "for line in lines:\n",
    "    print(line,end='')\n",
    "f.close()"
   ]
  },
  {
   "cell_type": "code",
   "execution_count": 12,
   "metadata": {},
   "outputs": [],
   "source": [
    "f=open(\"roo.txt\",\"w\")\n",
    "f.close()"
   ]
  },
  {
   "cell_type": "code",
   "execution_count": 13,
   "metadata": {},
   "outputs": [],
   "source": [
    "f=open(\"roo.txt\",\"a\")\n",
    "f.write(\"hello everyone\")\n",
    "f.close()"
   ]
  },
  {
   "cell_type": "code",
   "execution_count": 14,
   "metadata": {},
   "outputs": [
    {
     "name": "stdout",
     "output_type": "stream",
     "text": [
      "hello everyonehello everyone\n"
     ]
    }
   ],
   "source": [
    "f=open(\"roo.txt\",\"a\")\n",
    "f.write(\"hello everyone\")\n",
    "f.close()\n",
    "f=open(\"roo.txt\",\"r\")\n",
    "print(f.read())"
   ]
  },
  {
   "cell_type": "code",
   "execution_count": 16,
   "metadata": {},
   "outputs": [],
   "source": [
    "#with statement\n",
    "#it is used while openind a file.\n",
    "#we an get file operations statements within the block.\n",
    "#it will take care of closing files after completing all operations automatically even in the case of exceptions also and we are not required to close explicity."
   ]
  },
  {
   "cell_type": "code",
   "execution_count": 17,
   "metadata": {},
   "outputs": [
    {
     "name": "stdout",
     "output_type": "stream",
     "text": [
      "is file closed:  False\n",
      "is file closed True\n"
     ]
    }
   ],
   "source": [
    "with open(\"roo.txt\", \"w\") as f:\n",
    "    f.write(\"hi\\n\")\n",
    "    f.write(\"everyone\\n\")\n",
    "    f.write(\"bye\\n\")\n",
    "    print(\"is file closed: \", f.closed)\n",
    "print(\"is file closed\",f.closed)    "
   ]
  },
  {
   "cell_type": "code",
   "execution_count": 19,
   "metadata": {},
   "outputs": [
    {
     "name": "stdout",
     "output_type": "stream",
     "text": [
      "0\n",
      "hi\n",
      "2\n",
      "\n",
      "ev\n",
      "6\n"
     ]
    }
   ],
   "source": [
    "f = open(\"roo.txt\", \"r\")\n",
    "print(f.tell())\n",
    "print(f.read(2))\n",
    "print(f.tell())\n",
    "print(f.read(3))\n",
    "print(f.tell())"
   ]
  },
  {
   "cell_type": "code",
   "execution_count": null,
   "metadata": {},
   "outputs": [],
   "source": [
    "#seek\n",
    "#we can use seek metod to move cursor to specify location"
   ]
  },
  {
   "cell_type": "code",
   "execution_count": 20,
   "metadata": {},
   "outputs": [
    {
     "name": "stdout",
     "output_type": "stream",
     "text": [
      "everyone\n",
      "\n"
     ]
    }
   ],
   "source": [
    "f = open(\"roo.txt\", \"r\")\n",
    "f.seek(4)\n",
    "print(f.readline())"
   ]
  },
  {
   "cell_type": "code",
   "execution_count": 22,
   "metadata": {},
   "outputs": [
    {
     "name": "stdout",
     "output_type": "stream",
     "text": [
      "all students are good\n",
      "the current cursor position:  21\n",
      "the current cursor position:  17\n",
      "data after modification\n",
      "all students are GEMS!!!\n"
     ]
    }
   ],
   "source": [
    "data = \"all students are good\"\n",
    "f = open(\"abc.txt\", \"w\")\n",
    "f.write(data)\n",
    "with open(\"abc.txt\", \"r+\") as f:\n",
    "    text = f.read()\n",
    "    print(text)\n",
    "    print(\"the current cursor position: \", f.tell())\n",
    "    f.seek(17)\n",
    "    print(\"the current cursor position: \", f.tell())\n",
    "    f.write(\"GEMS!!!\")\n",
    "    f.seek(0)\n",
    "    text = f.read()\n",
    "    print(\"data after modification\")\n",
    "    print(text)"
   ]
  },
  {
   "cell_type": "code",
   "execution_count": 26,
   "metadata": {},
   "outputs": [
    {
     "name": "stdout",
     "output_type": "stream",
     "text": [
      "enter the file name: roo.txt\n",
      "file exists: roo.txt\n",
      "the content of file is:\n",
      "hi\n",
      "everyone\n",
      "bye\n",
      "\n"
     ]
    }
   ],
   "source": [
    "#write a program to check weather the given file exists or not .if it is available then print its content?\n",
    "import os,sys\n",
    "fname=input(\"enter the file name: \")\n",
    "if os.path.isfile(fname):\n",
    "    print(\"file exists:\",fname)\n",
    "    f=open(fname,\"r\")\n",
    "else:\n",
    "    print(\"file does not exist:\",fname)\n",
    "    sys.exit(0)\n",
    "print(\"the content of file is:\")\n",
    "data=f.read()\n",
    "print(data)"
   ]
  },
  {
   "cell_type": "code",
   "execution_count": 27,
   "metadata": {},
   "outputs": [],
   "source": [
    "#to print the number of lines ,words, characters. present in the given file."
   ]
  },
  {
   "cell_type": "code",
   "execution_count": 37,
   "metadata": {},
   "outputs": [
    {
     "ename": "NameError",
     "evalue": "name 'roo' is not defined",
     "output_type": "error",
     "traceback": [
      "\u001b[1;31m---------------------------------------------------------------------------\u001b[0m",
      "\u001b[1;31mNameError\u001b[0m                                 Traceback (most recent call last)",
      "\u001b[1;32m<ipython-input-37-1ee5923f95ee>\u001b[0m in \u001b[0;36m<module>\u001b[1;34m\u001b[0m\n\u001b[0;32m      6\u001b[0m \u001b[0mnum_chars\u001b[0m \u001b[1;33m=\u001b[0m \u001b[1;36m0\u001b[0m\u001b[1;33m\u001b[0m\u001b[1;33m\u001b[0m\u001b[0m\n\u001b[0;32m      7\u001b[0m \u001b[1;33m\u001b[0m\u001b[0m\n\u001b[1;32m----> 8\u001b[1;33m \u001b[1;32mfor\u001b[0m \u001b[0mline\u001b[0m \u001b[1;32min\u001b[0m \u001b[0mroo\u001b[0m\u001b[1;33m:\u001b[0m\u001b[1;33m\u001b[0m\u001b[1;33m\u001b[0m\u001b[0m\n\u001b[0m\u001b[0;32m      9\u001b[0m     \u001b[0mlines\u001b[0m \u001b[1;33m=\u001b[0m \u001b[0mline\u001b[0m\u001b[1;33m.\u001b[0m\u001b[0msplit\u001b[0m\u001b[1;33m(\u001b[0m\u001b[1;34m'\\n'\u001b[0m\u001b[1;33m)\u001b[0m\u001b[1;33m\u001b[0m\u001b[1;33m\u001b[0m\u001b[0m\n",
      "\u001b[1;31mNameError\u001b[0m: name 'roo' is not defined"
     ]
    }
   ],
   "source": [
    "fname = \"roo.txt\"\n",
    "fname = open('roo.txt', 'r')\n",
    "\n",
    "num_lines = 0\n",
    "num_words = 0\n",
    "num_chars = 0\n",
    "\n",
    "for line in roo:\n",
    "    lines = line.split('\\n')"
   ]
  },
  {
   "cell_type": "code",
   "execution_count": 39,
   "metadata": {},
   "outputs": [],
   "source": [
    "fname = \"rooo.txt\"\n",
    "\n",
    "num_lines = 0\n",
    "num_words = 0\n",
    "num_chars = 0\n",
    "\n",
    "with open(fname, 'r') as f:\n",
    "    for line in f:\n",
    "        words = line.split()\n",
    "\n",
    "        num_lines += 1\n",
    "        num_words += len(words)\n",
    "        num_chars += len(line)"
   ]
  },
  {
   "cell_type": "code",
   "execution_count": 40,
   "metadata": {},
   "outputs": [
    {
     "name": "stdout",
     "output_type": "stream",
     "text": [
      "enter the file name: rooo.txt\n",
      "file exists: rooo.txt\n",
      "the number of lines: 5\n",
      "the number of words: 11\n",
      "the number of charcters: 52\n"
     ]
    }
   ],
   "source": [
    "import os,sys\n",
    "fname=input(\"enter the file name: \")\n",
    "if os.path.isfile(fname):\n",
    "    print(\"file exists:\",fname)\n",
    "    f=open(fname,\"r\")\n",
    "else:\n",
    "    print(\"file does not exist:\",fname)\n",
    "    sys.exit(0)\n",
    "lcount=wcount=ccount=0\n",
    "for line in f:\n",
    "    lcount=lcount+1\n",
    "    ccount=ccount+len(line)\n",
    "    words=line.split()\n",
    "    wcount=wcount+len(words)\n",
    "print(\"the number of lines:\",lcount)\n",
    "print(\"the number of words:\",wcount)\n",
    "print(\"the number of charcters:\",ccount)\n"
   ]
  },
  {
   "cell_type": "code",
   "execution_count": 41,
   "metadata": {},
   "outputs": [],
   "source": [
    "#zipfile\n",
    "#we have to create zip file class object with name of zip file,mode and constant ZIP_DEFLATED. the constand represents we are creating zip file.\n",
    "# f =zipfile(\"files.zip\",\"w\",\"zip_deflated\")\n",
    "    "
   ]
  },
  {
   "cell_type": "code",
   "execution_count": 43,
   "metadata": {},
   "outputs": [
    {
     "name": "stdout",
     "output_type": "stream",
     "text": [
      "files.zip file created successfully\n"
     ]
    }
   ],
   "source": [
    "from zipfile import *\n",
    "f= ZipFile(\"files.zip\", 'w')\n",
    "f.write(\"files.zip\",\"r\")\n",
    "f.write(\"files.zip\")\n",
    "f.close()\n",
    "print(\"files.zip file created successfully\")"
   ]
  },
  {
   "cell_type": "code",
   "execution_count": null,
   "metadata": {},
   "outputs": [],
   "source": []
  }
 ],
 "metadata": {
  "kernelspec": {
   "display_name": "Python 3",
   "language": "python",
   "name": "python3"
  },
  "language_info": {
   "codemirror_mode": {
    "name": "ipython",
    "version": 3
   },
   "file_extension": ".py",
   "mimetype": "text/x-python",
   "name": "python",
   "nbconvert_exporter": "python",
   "pygments_lexer": "ipython3",
   "version": "3.7.4"
  }
 },
 "nbformat": 4,
 "nbformat_minor": 2
}
