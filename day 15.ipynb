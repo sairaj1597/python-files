{
 "cells": [
  {
   "cell_type": "code",
   "execution_count": 2,
   "metadata": {},
   "outputs": [
    {
     "name": "stdout",
     "output_type": "stream",
     "text": [
      "enter email is:kotagirisairaj01@gmail.com\n"
     ]
    },
    {
     "data": {
      "text/plain": [
       "'kotagirisairaj01@gmail.com'"
      ]
     },
     "execution_count": 2,
     "metadata": {},
     "output_type": "execute_result"
    }
   ],
   "source": [
    "import re\n",
    "def number (r):\n",
    "    z=re.match(\"([a-zA-Z\\d_.]+@[a-zA-Z]+.[A-Za-z]{2,20})\",r)\n",
    "    return z\n",
    "r=input(\"enter email is:\")\n",
    "number(r).group()\n"
   ]
  },
  {
   "cell_type": "code",
   "execution_count": 3,
   "metadata": {},
   "outputs": [
    {
     "name": "stdout",
     "output_type": "stream",
     "text": [
      "enter the nameraj\n",
      "enter number9704771823\n",
      "contact succesfully created\n"
     ]
    },
    {
     "data": {
      "text/plain": [
       "{'raj': '9704771823'}"
      ]
     },
     "execution_count": 3,
     "metadata": {},
     "output_type": "execute_result"
    }
   ],
   "source": [
    "import re\n",
    "dict1={}\n",
    "a=input(\"enter the name\")\n",
    "b=input(\"enter number\")\n",
    "x=re.match('[a-zA-z]{3,10}',a).group()\n",
    "y=re.match('^(9|8|7|6)[0-9]{9}',b).group()\n",
    "dict1[x]=y\n",
    "dict1\n",
    "if dict1:\n",
    "    print(\"contact succesfully created\")\n",
    "dict1\n"
   ]
  },
  {
   "cell_type": "code",
   "execution_count": 8,
   "metadata": {},
   "outputs": [
    {
     "name": "stdout",
     "output_type": "stream",
     "text": [
      "succesfully \n",
      "succesfully \n",
      "succesfully \n"
     ]
    }
   ],
   "source": [
    "phone={}\n",
    "def contact(name,number):\n",
    "    if name  not in phone:\n",
    "        phone[name]=number\n",
    "        print(\"succesfully \")\n",
    "    else:\n",
    "        print(\"already exist\")\n",
    "    return \n",
    "contact(\"sai\",\"96862148962\")\n",
    "contact(\"raj\",\"9704771823\")\n",
    "contact(\"priya\",\"56258963\")\n"
   ]
  },
  {
   "cell_type": "code",
   "execution_count": 9,
   "metadata": {},
   "outputs": [
    {
     "name": "stdout",
     "output_type": "stream",
     "text": [
      "already exist\n"
     ]
    }
   ],
   "source": [
    "contact(\"raj\",\"9704771823\")\n"
   ]
  },
  {
   "cell_type": "code",
   "execution_count": 11,
   "metadata": {},
   "outputs": [
    {
     "name": "stdout",
     "output_type": "stream",
     "text": [
      "9704771823\n"
     ]
    }
   ],
   "source": [
    "def search(a):\n",
    " x=phone.get(a)\n",
    " if a not in phone:\n",
    "       print(\"not exist\")\n",
    " else:\n",
    "      print(x)\n",
    "search('raj')\n"
   ]
  },
  {
   "cell_type": "code",
   "execution_count": 12,
   "metadata": {},
   "outputs": [
    {
     "name": "stdout",
     "output_type": "stream",
     "text": [
      "enter a name to deletepriya\n",
      "deleted succusfully\n"
     ]
    }
   ],
   "source": [
    "a=input(\"enter a name to delete\")\n",
    "if a in phone:\n",
    "    phone.pop(a)\n",
    "    print(\"deleted succusfully\")\n",
    "else:\n",
    "    print(\"detail not found\")\n"
   ]
  },
  {
   "cell_type": "code",
   "execution_count": 1,
   "metadata": {},
   "outputs": [
    {
     "name": "stdout",
     "output_type": "stream",
     "text": [
      "enter a stringSaIRaJ\n",
      "S I R J "
     ]
    }
   ],
   "source": [
    "#identifying caplocks\n",
    "a = input(\"enter a string\")\n",
    "for i in a:\n",
    "    if ord(i)>=65 and ord(i)<=90:\n",
    "        print(i,end=\" \")"
   ]
  },
  {
   "cell_type": "code",
   "execution_count": null,
   "metadata": {},
   "outputs": [],
   "source": [
    "#second character should be in caplock\n",
    "a=input(\"enter a string\")\n",
    "list1=[]\n",
    "list1=a.s\n",
    "list1"
   ]
  }
 ],
 "metadata": {
  "kernelspec": {
   "display_name": "Python 3",
   "language": "python",
   "name": "python3"
  },
  "language_info": {
   "codemirror_mode": {
    "name": "ipython",
    "version": 3
   },
   "file_extension": ".py",
   "mimetype": "text/x-python",
   "name": "python",
   "nbconvert_exporter": "python",
   "pygments_lexer": "ipython3",
   "version": "3.7.4"
  }
 },
 "nbformat": 4,
 "nbformat_minor": 2
}
