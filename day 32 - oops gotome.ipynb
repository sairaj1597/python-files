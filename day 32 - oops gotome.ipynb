{
 "cells": [
  {
   "cell_type": "code",
   "execution_count": 1,
   "metadata": {},
   "outputs": [
    {
     "name": "stdout",
     "output_type": "stream",
     "text": [
      "hello\n"
     ]
    }
   ],
   "source": [
    "class employee:\n",
    "    def print_info(self):\n",
    "        print(\"hello\")\n",
    "\n",
    "a=employee()\n",
    "a.print_info()"
   ]
  },
  {
   "cell_type": "markdown",
   "metadata": {},
   "source": [
    "## create a circle class and print area and parameter of the circle"
   ]
  },
  {
   "cell_type": "code",
   "execution_count": 1,
   "metadata": {},
   "outputs": [
    {
     "name": "stdout",
     "output_type": "stream",
     "text": [
      "314.0\n",
      "125.60000000000001\n",
      "153.86\n",
      "87.92\n"
     ]
    }
   ],
   "source": [
    "class circle:\n",
    "    def __init__(self,r):\n",
    "        self.r=r\n",
    "    def area(self):\n",
    "        print(3.14*self.r*self.r)\n",
    "    def parameter(self):\n",
    "        print(4*3.14*self.r)\n",
    "\n",
    "c=circle(10)\n",
    "c1=circle(7)\n",
    "c.area()\n",
    "c.parameter()\n",
    "c1.area()\n",
    "c1.parameter()\n",
    "        "
   ]
  },
  {
   "cell_type": "markdown",
   "metadata": {},
   "source": [
    "## count the no of objects created"
   ]
  },
  {
   "cell_type": "code",
   "execution_count": 3,
   "metadata": {},
   "outputs": [
    {
     "name": "stdout",
     "output_type": "stream",
     "text": [
      "314.0\n",
      "125.60000000000001\n",
      "153.86\n",
      "87.92\n",
      "2\n"
     ]
    }
   ],
   "source": [
    "class circle:\n",
    "    count = 0 # class variable\n",
    "    def __init__(self,r):\n",
    "        self.r=r # r is known as instance variable\n",
    "        circle.count+=1\n",
    "    def area(self):\n",
    "        print(3.14*self.r*self.r)\n",
    "        \n",
    "    def parameter(self):\n",
    "        print(4*3.14*self.r)\n",
    "    \n",
    "    def display_count():\n",
    "        print(circle.count)\n",
    "\n",
    "c=circle(10)\n",
    "c1=circle(7)\n",
    "c.area()\n",
    "c.parameter()\n",
    "c1.area()\n",
    "c1.parameter()\n",
    "circle.display_count()"
   ]
  },
  {
   "cell_type": "markdown",
   "metadata": {},
   "source": [
    "# INHERITANCE"
   ]
  },
  {
   "cell_type": "markdown",
   "metadata": {},
   "source": [
    "## 1.Single Inheritance\n",
    "## 2.Multiple Inheritance\n",
    "## 3.Multi - Level Inheritance\n",
    "## 4.Hierarichical Inheritance\n",
    "## 5.Hybrid Inheritance"
   ]
  },
  {
   "cell_type": "code",
   "execution_count": 2,
   "metadata": {},
   "outputs": [
    {
     "name": "stdout",
     "output_type": "stream",
     "text": [
      "this is class a method\n",
      "this is class b method\n",
      "this is class a method\n"
     ]
    }
   ],
   "source": [
    "# single inheritance\n",
    "class a:\n",
    "    def add(self):\n",
    "        print(\"this is class a method\")\n",
    "class b(a):\n",
    "    def sub(self):\n",
    "        print(\"this is class b method\")\n",
    "c=a()\n",
    "d=b()\n",
    "c.add()\n",
    "d.sub()\n",
    "d.add()\n",
    "\n",
    "    "
   ]
  },
  {
   "cell_type": "code",
   "execution_count": 5,
   "metadata": {},
   "outputs": [
    {
     "name": "stdout",
     "output_type": "stream",
     "text": [
      "this is class a method\n",
      "this is class a sub mehod\n"
     ]
    }
   ],
   "source": [
    "# multiple inheritance\n",
    "class a:\n",
    "    def add(self):\n",
    "        print(\"this is class a method\")\n",
    "    def sub(self):\n",
    "        print(\"this is class a sub mehod\")\n",
    "class b:\n",
    "    def sub(self):\n",
    "        print(\"this is class b sub method\")\n",
    "class c(a,b):\n",
    "    pass\n",
    "C=c()\n",
    "C.add()\n",
    "C.sub()\n"
   ]
  },
  {
   "cell_type": "code",
   "execution_count": 6,
   "metadata": {},
   "outputs": [
    {
     "name": "stdout",
     "output_type": "stream",
     "text": [
      "this is class a method\n",
      "this is class b method\n",
      "this is class c method\n"
     ]
    }
   ],
   "source": [
    "# multi - level\n",
    "class a:\n",
    "    def add(self):\n",
    "        print(\"this is class a method\")\n",
    "class b(a):\n",
    "    def sub(self):\n",
    "        print(\"this is class b method\")\n",
    "class c(b):\n",
    "    def mul(self):\n",
    "        print(\"this is class c method\")\n",
    "        \n",
    "C=c()\n",
    "C.add()\n",
    "C.sub()\n",
    "C.mul()"
   ]
  },
  {
   "cell_type": "code",
   "execution_count": 7,
   "metadata": {},
   "outputs": [
    {
     "name": "stdout",
     "output_type": "stream",
     "text": [
      "this is class a method\n",
      "this is class b method\n",
      "this is class a method\n",
      "this is class c method\n"
     ]
    }
   ],
   "source": [
    "# hierarichical \n",
    "class a:\n",
    "    def add(self):\n",
    "        print(\"this is class a method\")\n",
    "class b(a):\n",
    "    def sub(self):\n",
    "        print(\"this is class b method\")\n",
    "class c(a):\n",
    "    def mul(self):\n",
    "        print(\"this is class c method\")\n",
    "        \n",
    "B=b()\n",
    "C=c()\n",
    "B.add()\n",
    "B.sub()\n",
    "C.add()\n",
    "C.mul()"
   ]
  },
  {
   "cell_type": "code",
   "execution_count": 8,
   "metadata": {},
   "outputs": [
    {
     "ename": "TypeError",
     "evalue": "Cannot create a consistent method resolution\norder (MRO) for bases a, b",
     "output_type": "error",
     "traceback": [
      "\u001b[1;31m---------------------------------------------------------------------------\u001b[0m",
      "\u001b[1;31mTypeError\u001b[0m                                 Traceback (most recent call last)",
      "\u001b[1;32m<ipython-input-8-861028c9beb8>\u001b[0m in \u001b[0;36m<module>\u001b[1;34m\u001b[0m\n\u001b[0;32m      6\u001b[0m     \u001b[1;32mdef\u001b[0m \u001b[0msub\u001b[0m\u001b[1;33m(\u001b[0m\u001b[0mself\u001b[0m\u001b[1;33m)\u001b[0m\u001b[1;33m:\u001b[0m\u001b[1;33m\u001b[0m\u001b[1;33m\u001b[0m\u001b[0m\n\u001b[0;32m      7\u001b[0m         \u001b[0mprint\u001b[0m\u001b[1;33m(\u001b[0m\u001b[1;34m\"this is class b method\"\u001b[0m\u001b[1;33m)\u001b[0m\u001b[1;33m\u001b[0m\u001b[1;33m\u001b[0m\u001b[0m\n\u001b[1;32m----> 8\u001b[1;33m \u001b[1;32mclass\u001b[0m \u001b[0mc\u001b[0m\u001b[1;33m(\u001b[0m\u001b[0ma\u001b[0m\u001b[1;33m,\u001b[0m\u001b[0mb\u001b[0m\u001b[1;33m)\u001b[0m\u001b[1;33m:\u001b[0m\u001b[1;33m\u001b[0m\u001b[1;33m\u001b[0m\u001b[0m\n\u001b[0m\u001b[0;32m      9\u001b[0m     \u001b[1;32mdef\u001b[0m \u001b[0mmul\u001b[0m\u001b[1;33m(\u001b[0m\u001b[0mself\u001b[0m\u001b[1;33m)\u001b[0m\u001b[1;33m:\u001b[0m\u001b[1;33m\u001b[0m\u001b[1;33m\u001b[0m\u001b[0m\n\u001b[0;32m     10\u001b[0m         \u001b[0mprint\u001b[0m\u001b[1;33m(\u001b[0m\u001b[1;34m\"this is class c method\"\u001b[0m\u001b[1;33m)\u001b[0m\u001b[1;33m\u001b[0m\u001b[1;33m\u001b[0m\u001b[0m\n",
      "\u001b[1;31mTypeError\u001b[0m: Cannot create a consistent method resolution\norder (MRO) for bases a, b"
     ]
    }
   ],
   "source": [
    "# hybrid --> Hierarichical + multiple \n",
    "class a:\n",
    "    def add(self):\n",
    "        print(\"this is class a method\")\n",
    "class b(a):\n",
    "    def sub(self):\n",
    "        print(\"this is class b method\")\n",
    "class c(a,b):\n",
    "    def mul(self):\n",
    "        print(\"this is class c method\")\n",
    "        \n"
   ]
  },
  {
   "cell_type": "code",
   "execution_count": 14,
   "metadata": {},
   "outputs": [
    {
     "ename": "NameError",
     "evalue": "name 'name' is not defined",
     "output_type": "error",
     "traceback": [
      "\u001b[1;31m---------------------------------------------------------------------------\u001b[0m",
      "\u001b[1;31mNameError\u001b[0m                                 Traceback (most recent call last)",
      "\u001b[1;32m<ipython-input-14-b5fc95233300>\u001b[0m in \u001b[0;36m<module>\u001b[1;34m\u001b[0m\n\u001b[0;32m     27\u001b[0m \u001b[1;33m\u001b[0m\u001b[0m\n\u001b[0;32m     28\u001b[0m \u001b[0ma\u001b[0m\u001b[1;33m=\u001b[0m\u001b[0mmatch\u001b[0m\u001b[1;33m(\u001b[0m\u001b[1;33m)\u001b[0m\u001b[1;33m\u001b[0m\u001b[1;33m\u001b[0m\u001b[0m\n\u001b[1;32m---> 29\u001b[1;33m \u001b[0ma\u001b[0m\u001b[1;33m.\u001b[0m\u001b[0mstudent\u001b[0m\u001b[1;33m(\u001b[0m\u001b[1;33m)\u001b[0m\u001b[1;33m\u001b[0m\u001b[1;33m\u001b[0m\u001b[0m\n\u001b[0m\u001b[0;32m     30\u001b[0m \u001b[0ma\u001b[0m\u001b[1;33m.\u001b[0m\u001b[0mmethod\u001b[0m\u001b[1;33m(\u001b[0m\u001b[1;33m)\u001b[0m\u001b[1;33m\u001b[0m\u001b[1;33m\u001b[0m\u001b[0m\n",
      "\u001b[1;32m<ipython-input-14-b5fc95233300>\u001b[0m in \u001b[0;36mstudent\u001b[1;34m(self)\u001b[0m\n\u001b[0;32m     13\u001b[0m         \u001b[0mbranch\u001b[0m\u001b[1;33m=\u001b[0m\u001b[0mECE\u001b[0m\u001b[1;33m\u001b[0m\u001b[1;33m\u001b[0m\u001b[0m\n\u001b[0;32m     14\u001b[0m     \u001b[1;32mdef\u001b[0m \u001b[0mstudent\u001b[0m\u001b[1;33m(\u001b[0m\u001b[0mself\u001b[0m\u001b[1;33m)\u001b[0m\u001b[1;33m:\u001b[0m\u001b[1;33m\u001b[0m\u001b[1;33m\u001b[0m\u001b[0m\n\u001b[1;32m---> 15\u001b[1;33m         \u001b[0mprint\u001b[0m\u001b[1;33m(\u001b[0m\u001b[1;34m\"name:\"\u001b[0m\u001b[1;33m,\u001b[0m\u001b[0mname\u001b[0m\u001b[1;33m)\u001b[0m\u001b[1;33m\u001b[0m\u001b[1;33m\u001b[0m\u001b[0m\n\u001b[0m\u001b[0;32m     16\u001b[0m         \u001b[0mprint\u001b[0m\u001b[1;33m(\u001b[0m\u001b[1;34m\"rollno:\"\u001b[0m\u001b[1;33m,\u001b[0m\u001b[0mrollno\u001b[0m\u001b[1;33m)\u001b[0m\u001b[1;33m\u001b[0m\u001b[1;33m\u001b[0m\u001b[0m\n\u001b[0;32m     17\u001b[0m         \u001b[0mprint\u001b[0m\u001b[1;33m(\u001b[0m\u001b[1;34m\"branch:\"\u001b[0m\u001b[1;33m,\u001b[0m\u001b[0mbranch\u001b[0m\u001b[1;33m)\u001b[0m\u001b[1;33m\u001b[0m\u001b[1;33m\u001b[0m\u001b[0m\n",
      "\u001b[1;31mNameError\u001b[0m: name 'name' is not defined"
     ]
    }
   ],
   "source": [
    "# Real time scenarios:\n",
    "# class 1-->\n",
    "# mention student details --> name,roll no, branch\n",
    "# method -->print student details\n",
    "# class 2-->\n",
    "# members -->rollno,total fee,paid\n",
    "# method -->print the due amount\n",
    "\n",
    "class display:\n",
    "    def __init__(self,r=\"^[0-9]{4}$\"):\n",
    "        name=harshi\n",
    "        rollno=r\n",
    "        branch=ECE\n",
    "    def student(self):\n",
    "        print(\"name:\",name)\n",
    "        print(\"rollno:\",rollno)\n",
    "        print(\"branch:\",branch)\n",
    "class match(display):\n",
    "    def __init__(self):\n",
    "        total=1000\n",
    "        paid=500\n",
    "        d=total-paid\n",
    "    def method(self):\n",
    "        print(\"due:\",d)\n",
    "        \n",
    "    \n",
    "    \n",
    "a=match()\n",
    "a.student()\n",
    "a.method()\n"
   ]
  },
  {
   "cell_type": "code",
   "execution_count": null,
   "metadata": {},
   "outputs": [],
   "source": []
  }
 ],
 "metadata": {
  "kernelspec": {
   "display_name": "Python 3",
   "language": "python",
   "name": "python3"
  },
  "language_info": {
   "codemirror_mode": {
    "name": "ipython",
    "version": 3
   },
   "file_extension": ".py",
   "mimetype": "text/x-python",
   "name": "python",
   "nbconvert_exporter": "python",
   "pygments_lexer": "ipython3",
   "version": "3.7.4"
  }
 },
 "nbformat": 4,
 "nbformat_minor": 2
}
