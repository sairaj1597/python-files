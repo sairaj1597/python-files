{
 "cells": [
  {
   "cell_type": "markdown",
   "metadata": {},
   "source": [
    "## strings and string related problems in python"
   ]
  },
  {
   "cell_type": "markdown",
   "metadata": {},
   "source": [
    "### string : sequence of character \n",
    "\n",
    "### python : character and string\n",
    "\n",
    "### ord(char)  : represents the output terms of ASCII numbers\n",
    "\n",
    "### cahr(ord(char))  : represent the output in term of character\n",
    "\n",
    "### ASCII numbers\n",
    "\n",
    "A-Z : 65-90\n",
    " \n",
    " \n",
    "a-z : 97-122\n",
    "\n",
    "\n",
    "0-9 : 48 - 57\n",
    " \n",
    " \n",
    "space : 32"
   ]
  },
  {
   "cell_type": "code",
   "execution_count": null,
   "metadata": {},
   "outputs": [],
   "source": [
    "li= []\n",
    "s1 = input()\n",
    "for i in range(len(s1)):\n",
    "    if ord(s1[i]) >= 65 and ord(s1[i]) <= 90:\n",
    "        \n",
    "        print(li)"
   ]
  },
  {
   "cell_type": "code",
   "execution_count": 1,
   "metadata": {},
   "outputs": [
    {
     "name": "stdout",
     "output_type": "stream",
     "text": [
      "<class 'str'> 11\n"
     ]
    }
   ],
   "source": [
    "s1 ='a'\n",
    "s2 ='application'\n",
    "print(type(s1),len(s2))"
   ]
  },
  {
   "cell_type": "markdown",
   "metadata": {},
   "source": []
  },
  {
   "cell_type": "code",
   "execution_count": 6,
   "metadata": {},
   "outputs": [
    {
     "name": "stdout",
     "output_type": "stream",
     "text": [
      "DFKHBADjhiod\n",
      "upper case : 7 lower case : 5\n"
     ]
    }
   ],
   "source": [
    "li = {}\n",
    "s1 = input()\n",
    "uCnt = 0\n",
    "lCnt = 0 \n",
    "for i in range(len(s1)):\n",
    "    if s1[i].isupper():\n",
    "        uCnt += 1\n",
    "    elif s1[i].islower():\n",
    "        lCnt += 1\n",
    "print('upper case : {} lower case : {}'.format(uCnt,lCnt))"
   ]
  },
  {
   "cell_type": "code",
   "execution_count": null,
   "metadata": {},
   "outputs": [],
   "source": [
    "n=input(\"enter a string\")\n",
    "list1=[]\n",
    "list1=n.split()\n",
    "list1\n",
    "list2=[]\n",
    "for i in list1:\n",
    "    if i=='the':\n",
    "        print(\"\")\n",
    "    else:\n",
    "            a=len(i)\n",
    "            list2.append(a)\n",
    "list2"
   ]
  },
  {
   "cell_type": "code",
   "execution_count": 3,
   "metadata": {},
   "outputs": [
    {
     "name": "stdout",
     "output_type": "stream",
     "text": [
      "App1ca8ti8on9\n",
      "16\n"
     ]
    }
   ],
   "source": [
    "#App1ca8ti8on9\n",
    "#16\n",
    "\n",
    "final_sum = 0\n",
    "s1 = input()\n",
    "for i in range(len(s1)):\n",
    "    if s1[i].isdigit():\n",
    "        k = ord(s1[i]) - 48\n",
    "        if k % 2 == 0:\n",
    "            final_sum += k\n",
    "print('{}'.format(final_sum))"
   ]
  },
  {
   "cell_type": "code",
   "execution_count": null,
   "metadata": {},
   "outputs": [],
   "source": [
    "final_sum = 0\n",
    "s1 = input()\n",
    "for i in range(len(s1)):\n",
    "    num = 0\n",
    "    while True:\n",
    "        if s1[i].isdigit():\n",
    "            k = ord(s1[i]) - 48\n",
    "            num = (num*10) + k\n",
    "            i += 1\n",
    "        else:\n",
    "            break\n",
    "        if check(num) == 2:\n",
    "            final_sum +=num\n",
    "        elif check(num) == 3:\n",
    "            final_x += num\n",
    "print('{0} {1}'.format(final_sum,final_x))"
   ]
  },
  {
   "cell_type": "code",
   "execution_count": 7,
   "metadata": {},
   "outputs": [
    {
     "name": "stdout",
     "output_type": "stream",
     "text": [
      "aabc bbde\n",
      "!@!!@@@\n",
      "!!@@!!!!@@@@@"
     ]
    }
   ],
   "source": [
    "##password encryption format - 128bytes (manual encryption)\n",
    "# not special characters and digits\n",
    "#Abcd -- !@@!!!@@@@\n",
    "####aabc -- !@!!@@@\n",
    "s = input()\n",
    "s = s.upper()\n",
    "ch ='!'\n",
    "for i in range(len(s)):\n",
    "    if ord(s[i]) !=32:\n",
    "        k = ord(s[i]) - 64\n",
    "        for j in range(k):\n",
    "            print(ch,end='')\n",
    "        if ch == '!':\n",
    "            ch = '@'\n",
    "        else :\n",
    "            ch = '!'\n",
    "    else:\n",
    "        print()\n",
    "        ch = '!'"
   ]
  },
  {
   "cell_type": "code",
   "execution_count": 8,
   "metadata": {},
   "outputs": [],
   "source": [
    "#input: 1A2B3C4D\n",
    "#output: ABBCCCDDDD\n"
   ]
  },
  {
   "cell_type": "code",
   "execution_count": 10,
   "metadata": {},
   "outputs": [
    {
     "ename": "SyntaxError",
     "evalue": "invalid syntax (<ipython-input-10-a775e3382459>, line 1)",
     "output_type": "error",
     "traceback": [
      "\u001b[1;36m  File \u001b[1;32m\"<ipython-input-10-a775e3382459>\"\u001b[1;36m, line \u001b[1;32m1\u001b[0m\n\u001b[1;33m    public class StringCompressor {\u001b[0m\n\u001b[1;37m               ^\u001b[0m\n\u001b[1;31mSyntaxError\u001b[0m\u001b[1;31m:\u001b[0m invalid syntax\n"
     ]
    }
   ],
   "source": [
    " public class StringCompressor {\n",
    "    public String compressString(String data){\n",
    "\n",
    "        StringBuilder outBuilder = new StringBuilder();\n",
    "        char prevChar = data.charAt(0);\n",
    "        int counter = 0;\n",
    "        char currChar;\n",
    "        int length = data.length();\n",
    "        for(int i=0; i&lt; length; i++){\n",
    "            currChar = data.charAt(i);\n",
    "            if(currChar == prevChar){\n",
    "                counter++;\n",
    "                // For the last unique characters\n",
    "                if(i == length-1){\n",
    "                    outBuilder.append(currChar);\n",
    "                    outBuilder.append(counter);\n",
    "                }\n",
    "                continue;\n",
    "            } else {\n",
    "                outBuilder.append(prevChar);\n",
    "                outBuilder.append(counter);\n",
    "                prevChar = currChar;\n",
    "                counter=1;\n",
    "            }\n",
    "        }\n",
    "\n",
    "        return outBuilder.toString();\n",
    "    }\n",
    "\n",
    "    /**\n",
    "     * @param args\n",
    "     */\n",
    "    public static void main(String[] args) {\n",
    "        StringCompressor sc = new StringCompressor();\n",
    "        System.out.println(sc.compressString(\"aaabbbcc\"));\n",
    "\n",
    "    }\n",
    "\n",
    "}"
   ]
  },
  {
   "cell_type": "code",
   "execution_count": 11,
   "metadata": {},
   "outputs": [
    {
     "ename": "SyntaxError",
     "evalue": "invalid syntax (<ipython-input-11-821e274c0b1e>, line 1)",
     "output_type": "error",
     "traceback": [
      "\u001b[1;36m  File \u001b[1;32m\"<ipython-input-11-821e274c0b1e>\"\u001b[1;36m, line \u001b[1;32m1\u001b[0m\n\u001b[1;33m    string CombineWithNoExtraSpace(string S)\u001b[0m\n\u001b[1;37m                                 ^\u001b[0m\n\u001b[1;31mSyntaxError\u001b[0m\u001b[1;31m:\u001b[0m invalid syntax\n"
     ]
    }
   ],
   "source": [
    "string CombineWithNoExtraSpace(string S)\n",
    "{\n",
    "    int n=S.size(),count=1,i=0;\n",
    "    if(i==n) return \"\\0\";\n",
    "    while(i+1&lt;=n &amp;&amp; S[i]==S[i+1] )\n",
    "    {\n",
    "        count++;\n",
    "        i++;\n",
    "    }\n",
    "    S = S[i] + to_string(count) + combine(S.substr(i+1,n-count));\n",
    "    return S;\n",
    "}"
   ]
  },
  {
   "cell_type": "code",
   "execution_count": null,
   "metadata": {},
   "outputs": [],
   "source": [
    "s='1a2b3c'\n",
    "for i in range(0)"
   ]
  }
 ],
 "metadata": {
  "kernelspec": {
   "display_name": "Python 3",
   "language": "python",
   "name": "python3"
  },
  "language_info": {
   "codemirror_mode": {
    "name": "ipython",
    "version": 3
   },
   "file_extension": ".py",
   "mimetype": "text/x-python",
   "name": "python",
   "nbconvert_exporter": "python",
   "pygments_lexer": "ipython3",
   "version": "3.7.4"
  }
 },
 "nbformat": 4,
 "nbformat_minor": 2
}
