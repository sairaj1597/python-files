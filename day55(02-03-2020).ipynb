{
 "cells": [
  {
   "cell_type": "code",
   "execution_count": 4,
   "metadata": {},
   "outputs": [],
   "source": [
    "userSays = ['what about fee structure?',\n",
    " 'what is the fee for B.Tech program?',\n",
    " 'what is the fee for UG?',\n",
    " 'what  is the fee for specific branch?',\n",
    " 'Fee details for B.Tech?',\n",
    " 'what is the fee applicable after concession?',\n",
    " 'what is the fee structure if my EAMCET rank is below 3000?',\n",
    " 'fee details if my plus 2 marks are above 965?',\n",
    " 'what is the fee for core branches?',\n",
    " 'what is the fee structure for CSE after concession?',\n",
    " 'Fee applicable for CSE if I score below 3000 in eamcet?',\n",
    " 'Fee details for ECE if my eamcet rank is below 3000?',\n",
    " 'what is the fee structure for ECE after concession?',\n",
    " 'Fee details for IT branch if my eamcet rank is below 3000?',\n",
    " 'what is the fee structure for IT branch after concession?',\n",
    " 'Fee details for mechanical if my eamcet rank is below 3000?',\n",
    " 'what is the fee structure for mechanical after concession?',\n",
    " 'what is the fee per annum?']"
   ]
  },
  {
   "cell_type": "code",
   "execution_count": 5,
   "metadata": {},
   "outputs": [],
   "source": [
    "from numpy import nan\n",
    "responses = ['CSE  ,ECE, IT, Mechanical   --90,000/-',\n",
    " 'The fee applicable for all core branches is 90,000',\n",
    " 'The fee per annum is 90,000',\n",
    " 'The fee should be paid after concession is 90,000',\n",
    " nan,\n",
    " nan,\n",
    " nan,\n",
    " nan,\n",
    " nan,\n",
    " nan,\n",
    " nan,\n",
    " nan,\n",
    " nan,\n",
    " nan,\n",
    " nan,\n",
    " nan,\n",
    " nan,\n",
    " nan]"
   ]
  },
  {
   "cell_type": "code",
   "execution_count": 6,
   "metadata": {},
   "outputs": [
    {
     "data": {
      "text/plain": [
       "{'what about fee structure?': 'CSE  ,ECE, IT, Mechanical   --90,000/-',\n",
       " 'what is the fee for B.Tech program?': 'The fee applicable for all core branches is 90,000',\n",
       " 'what is the fee for UG?': 'The fee per annum is 90,000',\n",
       " 'what  is the fee for specific branch?': 'The fee should be paid after concession is 90,000',\n",
       " 'Fee details for B.Tech?': nan,\n",
       " 'what is the fee applicable after concession?': nan,\n",
       " 'what is the fee structure if my EAMCET rank is below 3000?': nan,\n",
       " 'fee details if my plus 2 marks are above 965?': nan,\n",
       " 'what is the fee for core branches?': nan,\n",
       " 'what is the fee structure for CSE after concession?': nan,\n",
       " 'Fee applicable for CSE if I score below 3000 in eamcet?': nan,\n",
       " 'Fee details for ECE if my eamcet rank is below 3000?': nan,\n",
       " 'what is the fee structure for ECE after concession?': nan,\n",
       " 'Fee details for IT branch if my eamcet rank is below 3000?': nan,\n",
       " 'what is the fee structure for IT branch after concession?': nan,\n",
       " 'Fee details for mechanical if my eamcet rank is below 3000?': nan,\n",
       " 'what is the fee structure for mechanical after concession?': nan,\n",
       " 'what is the fee per annum?': nan}"
      ]
     },
     "execution_count": 6,
     "metadata": {},
     "output_type": "execute_result"
    }
   ],
   "source": [
    "import datetime\n",
    "dictionary = dict(zip(userSays,responses))\n",
    "eval(str(dictionary))"
   ]
  },
  {
   "cell_type": "code",
   "execution_count": 3,
   "metadata": {},
   "outputs": [
    {
     "data": {
      "text/plain": [
       "{'auto': True,\n",
       " 'contexts': [],\n",
       " 'priority': 500000,\n",
       " 'webhookUsed': False,\n",
       " 'webhookForSlotFilling': False,\n",
       " 'fallbackIntent': False,\n",
       " 'events': [],\n",
       " 'conditionalResponses': [],\n",
       " 'condition': '',\n",
       " 'conditionalFollowupEvents': []}"
      ]
     },
     "execution_count": 3,
     "metadata": {},
     "output_type": "execute_result"
    }
   ],
   "source": [
    "{\n",
    "  \"auto\": True,\n",
    "  \"contexts\": [],\n",
    "  \"priority\": 500000,\n",
    "  \"webhookUsed\": False,\n",
    "  \"webhookForSlotFilling\": False,\n",
    "  \"fallbackIntent\": False,\n",
    "  \"events\": [],\n",
    "  \"conditionalResponses\": [],\n",
    "  \"condition\": \"\",\n",
    "  \"conditionalFollowupEvents\": []\n",
    "  \n",
    "}"
   ]
  },
  {
   "cell_type": "code",
   "execution_count": null,
   "metadata": {},
   "outputs": [],
   "source": []
  }
 ],
 "metadata": {
  "kernelspec": {
   "display_name": "Python 3",
   "language": "python",
   "name": "python3"
  },
  "language_info": {
   "codemirror_mode": {
    "name": "ipython",
    "version": 3
   },
   "file_extension": ".py",
   "mimetype": "text/x-python",
   "name": "python",
   "nbconvert_exporter": "python",
   "pygments_lexer": "ipython3",
   "version": "3.7.4"
  }
 },
 "nbformat": 4,
 "nbformat_minor": 2
}
